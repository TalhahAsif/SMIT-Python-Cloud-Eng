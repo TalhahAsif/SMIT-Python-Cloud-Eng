{
 "cells": [
  {
   "cell_type": "markdown",
   "id": "7eb5d0a0",
   "metadata": {},
   "source": [
    "read => \"r\"\n",
    "write => \"w\"\n",
    "append => \"a\"\n",
    "read/write => \"w+\""
   ]
  },
  {
   "cell_type": "code",
   "execution_count": 5,
   "id": "85d5118f",
   "metadata": {},
   "outputs": [],
   "source": [
    "f = open(\"newfile.txt\", \"w\")\n",
    "\n",
    "f.write(\"this is file\")\n",
    "f.close()"
   ]
  },
  {
   "cell_type": "code",
   "execution_count": 6,
   "id": "0d61088f",
   "metadata": {},
   "outputs": [],
   "source": [
    "with open(\"anotherfile.html\", \"w\")as f:\n",
    "    f.write(\"<p>hello</p>\")"
   ]
  },
  {
   "cell_type": "code",
   "execution_count": 7,
   "id": "b79d229a",
   "metadata": {},
   "outputs": [],
   "source": [
    "with open(\"anotherfile.html\", \"r\")as r:\n",
    "    r.read()"
   ]
  },
  {
   "cell_type": "markdown",
   "id": "b59f33d5",
   "metadata": {},
   "source": []
  }
 ],
 "metadata": {
  "kernelspec": {
   "display_name": "Python 3",
   "language": "python",
   "name": "python3"
  },
  "language_info": {
   "codemirror_mode": {
    "name": "ipython",
    "version": 3
   },
   "file_extension": ".py",
   "mimetype": "text/x-python",
   "name": "python",
   "nbconvert_exporter": "python",
   "pygments_lexer": "ipython3",
   "version": "3.13.5"
  }
 },
 "nbformat": 4,
 "nbformat_minor": 5
}
