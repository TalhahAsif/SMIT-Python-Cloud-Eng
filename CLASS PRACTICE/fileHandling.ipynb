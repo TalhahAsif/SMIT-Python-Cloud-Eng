{
 "cells": [
  {
   "cell_type": "markdown",
   "id": "7eb5d0a0",
   "metadata": {},
   "source": [
    "read => \"r\"\n",
    "write => \"w\"\n",
    "append => \"a\"\n",
    "read/write => \"w+\""
   ]
  },
  {
   "cell_type": "code",
   "execution_count": 5,
   "id": "85d5118f",
   "metadata": {},
   "outputs": [],
   "source": [
    "f = open(\"newfile.txt\", \"w\")\n",
    "\n",
    "f.write(\"this is file\")\n",
    "f.close()"
   ]
  },
  {
   "cell_type": "code",
   "execution_count": 6,
   "id": "0d61088f",
   "metadata": {},
   "outputs": [],
   "source": [
    "with open(\"anotherfile.html\", \"w\")as f:\n",
    "    f.write(\"<p>hello</p>\")"
   ]
  },
  {
   "cell_type": "code",
   "execution_count": 6,
   "id": "b79d229a",
   "metadata": {},
   "outputs": [],
   "source": [
    "import csv\n",
    "\n",
    "data = [\n",
    "    [\"Teams\", \"rankings\", ],     \n",
    "    [\"India\", 1,],\n",
    "    [\"Pakistan\", 2, ],\n",
    "    [\"Bangladesh\", 3]\n",
    "]\n",
    "\n",
    "with open(\"asiaCup.csv\", \"w\", newline=\"\") as f:\n",
    "    writer = csv.writer(f)\n",
    "    writer.writerows(data)"
   ]
  },
  {
   "cell_type": "code",
   "execution_count": 21,
   "id": "a164ba35",
   "metadata": {},
   "outputs": [],
   "source": [
    "import csv\n",
    "\n",
    "newdata = [\n",
    "    [\"Srilanka\", 4,],\n",
    "]\n",
    "\n",
    "with open(\"./asiaCup.csv\", mode=\"a\", newline=\"\") as f:\n",
    "    writer = csv.writer(f, delimiter=\",\")\n",
    "    writer.writerows(newdata)"
   ]
  },
  {
   "cell_type": "code",
   "execution_count": 39,
   "id": "62b9598f",
   "metadata": {},
   "outputs": [],
   "source": [
    "with open(\"./data.json\", \"w\")as f:\n",
    "    f.write('{\"name\":\"Talha\",\"age\":22}')"
   ]
  },
  {
   "cell_type": "code",
   "execution_count": 40,
   "id": "16394bdb",
   "metadata": {},
   "outputs": [
    {
     "name": "stdout",
     "output_type": "stream",
     "text": [
      "New field added successfully!\n"
     ]
    }
   ],
   "source": [
    "import json\n",
    "\n",
    "# Step 1: Read JSON\n",
    "with open(\"./data.json\", \"r\") as f:\n",
    "    content = json.load(f)\n",
    "\n",
    "# Step 2: Update it\n",
    "content[\"gender\"] = \"male\"\n",
    "\n",
    "# Step 3: Write updated data back\n",
    "with open(\"./data.json\", \"w\") as f:\n",
    "    json.dump(content, f, indent=4)\n",
    "\n",
    "print(\"New field added successfully!\")"
   ]
  },
  {
   "cell_type": "code",
   "execution_count": null,
   "id": "a3066af6",
   "metadata": {},
   "outputs": [],
   "source": []
  },
  {
   "cell_type": "code",
   "execution_count": null,
   "id": "72ab973e",
   "metadata": {},
   "outputs": [],
   "source": []
  },
  {
   "cell_type": "code",
   "execution_count": null,
   "id": "46c29c6f",
   "metadata": {},
   "outputs": [],
   "source": []
  }
 ],
 "metadata": {
  "kernelspec": {
   "display_name": "Python 3",
   "language": "python",
   "name": "python3"
  },
  "language_info": {
   "codemirror_mode": {
    "name": "ipython",
    "version": 3
   },
   "file_extension": ".py",
   "mimetype": "text/x-python",
   "name": "python",
   "nbconvert_exporter": "python",
   "pygments_lexer": "ipython3",
   "version": "3.13.5"
  }
 },
 "nbformat": 4,
 "nbformat_minor": 5
}
