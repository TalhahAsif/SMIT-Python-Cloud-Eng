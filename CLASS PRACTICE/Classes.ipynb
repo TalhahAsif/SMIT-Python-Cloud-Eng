{
 "cells": [
  {
   "cell_type": "code",
   "execution_count": 10,
   "id": "3c398c09",
   "metadata": {},
   "outputs": [],
   "source": [
    "class Person: \n",
    "    def __init__(self, name, height):\n",
    "        self.name = name,\n",
    "        self.height= height,\n",
    "        \n",
    "    def introduce(self): \n",
    "        print(f\"my name is {self.name}. and my height is {self.height}.\")   "
   ]
  },
  {
   "cell_type": "markdown",
   "id": "0eb61cf3",
   "metadata": {},
   "source": []
  },
  {
   "cell_type": "code",
   "execution_count": 14,
   "id": "6e54a36f",
   "metadata": {},
   "outputs": [
    {
     "name": "stdout",
     "output_type": "stream",
     "text": [
      "my name is ('Talha',). and my height is (6.6,).\n"
     ]
    }
   ],
   "source": [
    "person = Person(\"Talha\", 6.6)\n",
    "\n",
    "\n",
    "person.introduce()"
   ]
  },
  {
   "cell_type": "code",
   "execution_count": 12,
   "id": "a2ff1dd9",
   "metadata": {},
   "outputs": [
    {
     "name": "stdout",
     "output_type": "stream",
     "text": [
      "10400\n"
     ]
    }
   ],
   "source": [
    "actual_balance = 5000\n",
    "\n",
    "class BankAccount:\n",
    "    def __init__(self, owner, balance=0):\n",
    "        self.owner = owner\n",
    "        self.balance = balance\n",
    "    \n",
    "    def deposit(self, amount):\n",
    "        self.balance += amount\n",
    "        self.balance += actual_balance\n",
    "    \n",
    "    def withdraw(self, amount):\n",
    "        if amount <= self.balance:\n",
    "            self.balance -= amount\n",
    "        else:\n",
    "            print(\"Insufficient funds!\")\n",
    "\n",
    "account = BankAccount(\"Talha\", actual_balance)\n",
    "account.deposit(400)\n",
    "print(account.balance)  # 1500\n"
   ]
  },
  {
   "cell_type": "code",
   "execution_count": 48,
   "id": "bc088521",
   "metadata": {},
   "outputs": [
    {
     "name": "stdout",
     "output_type": "stream",
     "text": [
      "Saylani is a Head office. Our course is Data Engineering. We have 10 staff members. And there are more courses: AI, Web Development, Mobile App etc..\n",
      "Saylani’s mission is to provide free education and training.\n",
      "There are 15 campuses\n",
      "There are 45 campuses\n",
      "There are 95 campuses\n"
     ]
    }
   ],
   "source": [
    "class Saylani: \n",
    "    helpline = \"0900078691\"\n",
    "    campus_count = 5\n",
    "    \n",
    "    def __init__(self, campus, course, staff):\n",
    "        self.campus = campus\n",
    "        self.course = course\n",
    "        self.staff = staff\n",
    "        \n",
    "    def introduce(self, more_courses): \n",
    "        print(\n",
    "            f\"Saylani is a {self.campus}. \"\n",
    "            f\"Our course is {self.course}. \"\n",
    "            f\"We have {self.staff} staff members. \"\n",
    "            f\"And there are more courses: {\", \".join(more_courses)} etc..\"\n",
    "        )\n",
    "        \n",
    "    @classmethod\n",
    "    def add_campus(clas, count):\n",
    "        clas.campus_count += count\n",
    "        print(f\"There are {clas.campus_count} campuses\")\n",
    "        \n",
    "    @staticmethod\n",
    "    def mission():\n",
    "        print(\"Saylani’s mission is to provide free education and training.\")    \n",
    "        \n",
    "\n",
    "# Create an object\n",
    "institute = Saylani(\"Head office\", \"Data Engineering\", 10)\n",
    "\n",
    "\n",
    "# Call method with extra argument\n",
    "institute.introduce([\"AI\", \"Web Development\", \"Mobile App\"])\n",
    "\n",
    "Saylani.mission()\n",
    "\n",
    "Saylani.add_campus(10)\n",
    "Saylani.add_campus(30)\n",
    "Saylani.add_campus(50)\n"
   ]
  },
  {
   "cell_type": "code",
   "execution_count": null,
   "id": "d0cd2dcd",
   "metadata": {},
   "outputs": [
    {
     "name": "stdout",
     "output_type": "stream",
     "text": [
      "Saylani is a Bahadurabad. Our course is Data Science. We have 20 staff members. And there are more courses: AI, Web Development, Mobile App etc..\n"
     ]
    }
   ],
   "source": [
    "bahadurabad = Saylani(\"Bahadurabad\", \"Data Science\", 20)\n",
    "bahadurabad.introduce([\"AI\", \"Web Development\", \"Mobile App\"])"
   ]
  },
  {
   "cell_type": "markdown",
   "id": "3e10ca12",
   "metadata": {},
   "source": [
    "INHERITENSE"
   ]
  },
  {
   "cell_type": "code",
   "execution_count": 2,
   "id": "ea4e7f61",
   "metadata": {},
   "outputs": [
    {
     "name": "stdout",
     "output_type": "stream",
     "text": [
      "Buddy barks.\n",
      "Whiskers meows.\n",
      "Generic Animal makes a sound.\n"
     ]
    }
   ],
   "source": [
    "# Parent class\n",
    "class Animal:\n",
    "    def __init__(self, name):\n",
    "        self.name = name\n",
    "\n",
    "    def speak(self):\n",
    "        return f\"{self.name} makes a sound.\"\n",
    "\n",
    "# Child class (inherits from Animal)\n",
    "class Dog(Animal):\n",
    "    def speak(self):  # Overriding parent method\n",
    "        return f\"{self.name} barks.\"\n",
    "\n",
    "# Another child class\n",
    "class Cat(Animal):\n",
    "    def speak(self):\n",
    "        return f\"{self.name} meows.\"\n",
    "\n",
    "\n",
    "# Using the classes\n",
    "dog = Dog(\"Buddy\")\n",
    "cat = Cat(\"Whiskers\")\n",
    "\n",
    "print(dog.speak())  # Buddy barks.\n",
    "print(cat.speak())  # Whiskers meows.\n",
    "\n",
    "print(Animal(\"Generic Animal\").speak())  # Generic Animal makes a sound."
   ]
  },
  {
   "cell_type": "code",
   "execution_count": 3,
   "id": "b0daec78",
   "metadata": {},
   "outputs": [
    {
     "name": "stdout",
     "output_type": "stream",
     "text": [
      "I know Fishing and Cooking\n"
     ]
    }
   ],
   "source": [
    "class Father:\n",
    "    def skill(self):\n",
    "        return \"Fishing\"\n",
    "\n",
    "class Mother:\n",
    "    def skill(self):\n",
    "        return \"Cooking\"\n",
    "\n",
    "class Child(Father, Mother):   # inherits both\n",
    "    def skill(self):\n",
    "        return f\"I know {Father.skill(self)} and {Mother.skill(self)}\"\n",
    "\n",
    "child = Child()\n",
    "print(child.skill())  # I know Fishing and Cooking"
   ]
  },
  {
   "cell_type": "markdown",
   "id": "0af7693d",
   "metadata": {},
   "source": [
    "Encapsulation Example"
   ]
  },
  {
   "cell_type": "code",
   "execution_count": 5,
   "id": "9911aa88",
   "metadata": {},
   "outputs": [],
   "source": [
    "class Saylani():\n",
    "    def  __init__ (self, name):\n",
    "        self.name = name\n",
    "        self._name = name\n",
    "        self.__name = name"
   ]
  },
  {
   "cell_type": "code",
   "execution_count": null,
   "id": "14d359e1",
   "metadata": {},
   "outputs": [
    {
     "name": "stdout",
     "output_type": "stream",
     "text": [
      "Talha\n",
      "Talha\n"
     ]
    }
   ],
   "source": [
    "Saylani_obj = Saylani(\"Talha\")\n",
    "\n",
    "print(Saylani_obj.name)   # Public access\n",
    "print(Saylani_obj._name)  # Protected access (convention)\n",
    "print(Saylani_obj._Saylani__name) # Private access"
   ]
  },
  {
   "cell_type": "code",
   "execution_count": 12,
   "id": "3256b511",
   "metadata": {},
   "outputs": [],
   "source": [
    "class StudentLogin():\n",
    "    def __init__ (self):\n",
    "        __user_name= \"Talha\"\n",
    "        __password = \"@Talha995\"\n",
    "        \n",
    "    def __dbconnectivity(self, username, password):\n",
    "        if username == StudentLogin.__username and password == StudentLogin.__password:\n",
    "            print(\"valid User\")\n",
    "        else:\n",
    "            print(\"Invalid User\")\n",
    "            \n",
    "    def login(self, username, password):     \n",
    "        self.__dbconnectivity(username,password)  "
   ]
  },
  {
   "cell_type": "markdown",
   "id": "e0bfdc44",
   "metadata": {},
   "source": []
  },
  {
   "cell_type": "code",
   "execution_count": 13,
   "id": "65cf4c8a",
   "metadata": {},
   "outputs": [
    {
     "ename": "AttributeError",
     "evalue": "type object 'StudentLogin' has no attribute '_StudentLogin__username'",
     "output_type": "error",
     "traceback": [
      "\u001b[31m---------------------------------------------------------------------------\u001b[39m",
      "\u001b[31mAttributeError\u001b[39m                            Traceback (most recent call last)",
      "\u001b[36mCell\u001b[39m\u001b[36m \u001b[39m\u001b[32mIn[13]\u001b[39m\u001b[32m, line 4\u001b[39m\n\u001b[32m      1\u001b[39m student = StudentLogin()\n\u001b[32m----> \u001b[39m\u001b[32m4\u001b[39m \u001b[43mstudent\u001b[49m\u001b[43m.\u001b[49m\u001b[43mlogin\u001b[49m\u001b[43m(\u001b[49m\u001b[33;43m\"\u001b[39;49m\u001b[33;43mtalha\u001b[39;49m\u001b[33;43m\"\u001b[39;49m\u001b[43m \u001b[49m\u001b[43m,\u001b[49m\u001b[43m \u001b[49m\u001b[33;43m\"\u001b[39;49m\u001b[33;43m02002\u001b[39;49m\u001b[33;43m\"\u001b[39;49m\u001b[43m)\u001b[49m\n",
      "\u001b[36mCell\u001b[39m\u001b[36m \u001b[39m\u001b[32mIn[12]\u001b[39m\u001b[32m, line 13\u001b[39m, in \u001b[36mStudentLogin.login\u001b[39m\u001b[34m(self, username, password)\u001b[39m\n\u001b[32m     12\u001b[39m \u001b[38;5;28;01mdef\u001b[39;00m\u001b[38;5;250m \u001b[39m\u001b[34mlogin\u001b[39m(\u001b[38;5;28mself\u001b[39m, username, password):     \n\u001b[32m---> \u001b[39m\u001b[32m13\u001b[39m     \u001b[38;5;28;43mself\u001b[39;49m\u001b[43m.\u001b[49m\u001b[43m__dbconnectivity\u001b[49m\u001b[43m(\u001b[49m\u001b[43musername\u001b[49m\u001b[43m,\u001b[49m\u001b[43mpassword\u001b[49m\u001b[43m)\u001b[49m\n",
      "\u001b[36mCell\u001b[39m\u001b[36m \u001b[39m\u001b[32mIn[12]\u001b[39m\u001b[32m, line 7\u001b[39m, in \u001b[36mStudentLogin.__dbconnectivity\u001b[39m\u001b[34m(self, username, password)\u001b[39m\n\u001b[32m      6\u001b[39m \u001b[38;5;28;01mdef\u001b[39;00m\u001b[38;5;250m \u001b[39m\u001b[34m__dbconnectivity\u001b[39m(\u001b[38;5;28mself\u001b[39m, username, password):\n\u001b[32m----> \u001b[39m\u001b[32m7\u001b[39m     \u001b[38;5;28;01mif\u001b[39;00m username == \u001b[43mStudentLogin\u001b[49m\u001b[43m.\u001b[49m\u001b[43m__username\u001b[49m \u001b[38;5;129;01mand\u001b[39;00m password == StudentLogin.__password:\n\u001b[32m      8\u001b[39m         \u001b[38;5;28mprint\u001b[39m(\u001b[33m\"\u001b[39m\u001b[33mvalid User\u001b[39m\u001b[33m\"\u001b[39m)\n\u001b[32m      9\u001b[39m     \u001b[38;5;28;01melse\u001b[39;00m:\n",
      "\u001b[31mAttributeError\u001b[39m: type object 'StudentLogin' has no attribute '_StudentLogin__username'"
     ]
    }
   ],
   "source": [
    "student = StudentLogin()\n",
    "\n",
    "\n",
    "student.login(\"talha\" , \"02002\")"
   ]
  },
  {
   "cell_type": "code",
   "execution_count": null,
   "id": "623f17df",
   "metadata": {},
   "outputs": [],
   "source": []
  }
 ],
 "metadata": {
  "kernelspec": {
   "display_name": "Python 3",
   "language": "python",
   "name": "python3"
  },
  "language_info": {
   "codemirror_mode": {
    "name": "ipython",
    "version": 3
   },
   "file_extension": ".py",
   "mimetype": "text/x-python",
   "name": "python",
   "nbconvert_exporter": "python",
   "pygments_lexer": "ipython3",
   "version": "3.13.5"
  }
 },
 "nbformat": 4,
 "nbformat_minor": 5
}
