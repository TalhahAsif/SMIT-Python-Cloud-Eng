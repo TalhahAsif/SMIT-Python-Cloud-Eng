{
 "cells": [
  {
   "cell_type": "code",
   "execution_count": 10,
   "id": "3c398c09",
   "metadata": {},
   "outputs": [],
   "source": [
    "class Person: \n",
    "    def __init__(self, name, height):\n",
    "        self.name = name,\n",
    "        self.height= height,\n",
    "        \n",
    "    def introduce(self): \n",
    "        print(f\"my name is {self.name}. and my height is {self.height}.\")   "
   ]
  },
  {
   "cell_type": "markdown",
   "id": "0eb61cf3",
   "metadata": {},
   "source": []
  },
  {
   "cell_type": "code",
   "execution_count": 14,
   "id": "6e54a36f",
   "metadata": {},
   "outputs": [
    {
     "name": "stdout",
     "output_type": "stream",
     "text": [
      "my name is ('Talha',). and my height is (6.6,).\n"
     ]
    }
   ],
   "source": [
    "person = Person(\"Talha\", 6.6)\n",
    "\n",
    "\n",
    "person.introduce()"
   ]
  },
  {
   "cell_type": "code",
   "execution_count": null,
   "id": "a2ff1dd9",
   "metadata": {},
   "outputs": [],
   "source": []
  },
  {
   "cell_type": "code",
   "execution_count": null,
   "id": "bc088521",
   "metadata": {},
   "outputs": [],
   "source": []
  }
 ],
 "metadata": {
  "kernelspec": {
   "display_name": "Python 3",
   "language": "python",
   "name": "python3"
  },
  "language_info": {
   "codemirror_mode": {
    "name": "ipython",
    "version": 3
   },
   "file_extension": ".py",
   "mimetype": "text/x-python",
   "name": "python",
   "nbconvert_exporter": "python",
   "pygments_lexer": "ipython3",
   "version": "3.13.5"
  }
 },
 "nbformat": 4,
 "nbformat_minor": 5
}
