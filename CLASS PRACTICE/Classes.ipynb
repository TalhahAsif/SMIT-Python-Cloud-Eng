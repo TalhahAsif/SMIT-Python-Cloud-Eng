{
 "cells": [
  {
   "cell_type": "code",
   "execution_count": 10,
   "id": "3c398c09",
   "metadata": {},
   "outputs": [],
   "source": [
    "class Person: \n",
    "    def __init__(self, name, height):\n",
    "        self.name = name,\n",
    "        self.height= height,\n",
    "        \n",
    "    def introduce(self): \n",
    "        print(f\"my name is {self.name}. and my height is {self.height}.\")   "
   ]
  },
  {
   "cell_type": "markdown",
   "id": "0eb61cf3",
   "metadata": {},
   "source": []
  },
  {
   "cell_type": "code",
   "execution_count": 14,
   "id": "6e54a36f",
   "metadata": {},
   "outputs": [
    {
     "name": "stdout",
     "output_type": "stream",
     "text": [
      "my name is ('Talha',). and my height is (6.6,).\n"
     ]
    }
   ],
   "source": [
    "person = Person(\"Talha\", 6.6)\n",
    "\n",
    "\n",
    "person.introduce()"
   ]
  },
  {
   "cell_type": "code",
   "execution_count": 12,
   "id": "a2ff1dd9",
   "metadata": {},
   "outputs": [
    {
     "name": "stdout",
     "output_type": "stream",
     "text": [
      "10400\n"
     ]
    }
   ],
   "source": [
    "actual_balance = 5000\n",
    "\n",
    "class BankAccount:\n",
    "    def __init__(self, owner, balance=0):\n",
    "        self.owner = owner\n",
    "        self.balance = balance\n",
    "    \n",
    "    def deposit(self, amount):\n",
    "        self.balance += amount\n",
    "        self.balance += actual_balance\n",
    "    \n",
    "    def withdraw(self, amount):\n",
    "        if amount <= self.balance:\n",
    "            self.balance -= amount\n",
    "        else:\n",
    "            print(\"Insufficient funds!\")\n",
    "\n",
    "account = BankAccount(\"Talha\", actual_balance)\n",
    "account.deposit(400)\n",
    "print(account.balance)  # 1500\n"
   ]
  },
  {
   "cell_type": "code",
   "execution_count": 48,
   "id": "bc088521",
   "metadata": {},
   "outputs": [
    {
     "name": "stdout",
     "output_type": "stream",
     "text": [
      "Saylani is a Head office. Our course is Data Engineering. We have 10 staff members. And there are more courses: AI, Web Development, Mobile App etc..\n",
      "Saylani’s mission is to provide free education and training.\n",
      "There are 15 campuses\n",
      "There are 45 campuses\n",
      "There are 95 campuses\n"
     ]
    }
   ],
   "source": [
    "class Saylani: \n",
    "    helpline = \"0900078691\"\n",
    "    campus_count = 5\n",
    "    \n",
    "    def __init__(self, campus, course, staff):\n",
    "        self.campus = campus\n",
    "        self.course = course\n",
    "        self.staff = staff\n",
    "        \n",
    "    def introduce(self, more_courses): \n",
    "        print(\n",
    "            f\"Saylani is a {self.campus}. \"\n",
    "            f\"Our course is {self.course}. \"\n",
    "            f\"We have {self.staff} staff members. \"\n",
    "            f\"And there are more courses: {\", \".join(more_courses)} etc..\"\n",
    "        )\n",
    "        \n",
    "    @classmethod\n",
    "    def add_campus(clas, count):\n",
    "        clas.campus_count += count\n",
    "        print(f\"There are {clas.campus_count} campuses\")\n",
    "        \n",
    "    @staticmethod\n",
    "    def mission():\n",
    "        print(\"Saylani’s mission is to provide free education and training.\")    \n",
    "        \n",
    "\n",
    "# Create an object\n",
    "institute = Saylani(\"Head office\", \"Data Engineering\", 10)\n",
    "\n",
    "\n",
    "# Call method with extra argument\n",
    "institute.introduce([\"AI\", \"Web Development\", \"Mobile App\"])\n",
    "\n",
    "Saylani.mission()\n",
    "\n",
    "Saylani.add_campus(10)\n",
    "Saylani.add_campus(30)\n",
    "Saylani.add_campus(50)\n"
   ]
  },
  {
   "cell_type": "code",
   "execution_count": null,
   "id": "d0cd2dcd",
   "metadata": {},
   "outputs": [
    {
     "name": "stdout",
     "output_type": "stream",
     "text": [
      "Saylani is a Bahadurabad. Our course is Data Science. We have 20 staff members. And there are more courses: AI, Web Development, Mobile App etc..\n"
     ]
    }
   ],
   "source": [
    "bahadurabad = Saylani(\"Bahadurabad\", \"Data Science\", 20)\n",
    "bahadurabad.introduce([\"AI\", \"Web Development\", \"Mobile App\"])"
   ]
  },
  {
   "cell_type": "code",
   "execution_count": null,
   "id": "76bd5c7d",
   "metadata": {},
   "outputs": [],
   "source": []
  }
 ],
 "metadata": {
  "kernelspec": {
   "display_name": "Python 3",
   "language": "python",
   "name": "python3"
  },
  "language_info": {
   "codemirror_mode": {
    "name": "ipython",
    "version": 3
   },
   "file_extension": ".py",
   "mimetype": "text/x-python",
   "name": "python",
   "nbconvert_exporter": "python",
   "pygments_lexer": "ipython3",
   "version": "3.13.5"
  }
 },
 "nbformat": 4,
 "nbformat_minor": 5
}
