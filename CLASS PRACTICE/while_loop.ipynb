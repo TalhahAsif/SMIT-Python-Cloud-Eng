{
 "cells": [
  {
   "cell_type": "code",
   "execution_count": 4,
   "id": "8dac23fb",
   "metadata": {},
   "outputs": [
    {
     "name": "stdout",
     "output_type": "stream",
     "text": [
      "1\n",
      "4\n"
     ]
    }
   ],
   "source": [
    "i = 1\n",
    "while i < 6:\n",
    "  print(i)\n",
    "  if (i > 5):\n",
    "    break\n",
    "  i += 3\n"
   ]
  },
  {
   "cell_type": "code",
   "execution_count": null,
   "id": "b0701b8c",
   "metadata": {},
   "outputs": [
    {
     "name": "stdout",
     "output_type": "stream",
     "text": [
      "120\n"
     ]
    }
   ],
   "source": [
    "def factorial(n: int) -> int:\n",
    "    if n < 0:\n",
    "        raise ValueError(\"Factorial is not defined for negative numbers\")\n",
    "    \n",
    "    result = 1\n",
    "    while n > 1:\n",
    "        result *= n\n",
    "        n -= 1\n",
    "    return result\n",
    "\n",
    "\n",
    "# Example usage:\n",
    "print(factorial(5))  # Output: 120\n"
   ]
  },
  {
   "cell_type": "code",
   "execution_count": 20,
   "id": "3c162289",
   "metadata": {},
   "outputs": [
    {
     "name": "stdout",
     "output_type": "stream",
     "text": [
      "Your name is: df\n",
      "Your name is: \n",
      "Your name is: dfs\n",
      "Your name is: quit\n"
     ]
    }
   ],
   "source": [
    "user_input = \"\"\n",
    "\n",
    "while(user_intput != \"quit\"):\n",
    "    user_intput = input(\"Enter your name: \")\n",
    "    print(f\"Your name is: {user_intput}\")"
   ]
  },
  {
   "cell_type": "code",
   "execution_count": null,
   "id": "d34e82c5",
   "metadata": {},
   "outputs": [],
   "source": []
  }
 ],
 "metadata": {
  "kernelspec": {
   "display_name": "Python 3",
   "language": "python",
   "name": "python3"
  },
  "language_info": {
   "codemirror_mode": {
    "name": "ipython",
    "version": 3
   },
   "file_extension": ".py",
   "mimetype": "text/x-python",
   "name": "python",
   "nbconvert_exporter": "python",
   "pygments_lexer": "ipython3",
   "version": "3.13.5"
  }
 },
 "nbformat": 4,
 "nbformat_minor": 5
}
