{
 "cells": [
  {
   "cell_type": "markdown",
   "id": "0bb7405d",
   "metadata": {},
   "source": [
    "REGISTER LOGIN"
   ]
  },
  {
   "cell_type": "code",
   "execution_count": 27,
   "id": "c3d72109",
   "metadata": {},
   "outputs": [
    {
     "data": {
      "text/plain": [
       "'Login Failed'"
      ]
     },
     "execution_count": 27,
     "metadata": {},
     "output_type": "execute_result"
    }
   ],
   "source": [
    "userList = []\n",
    "\n",
    "def auth_function(userName=\"\", email=\"\", password=\"\"): \n",
    "    userList.append({\n",
    "        \"name\": userName,\n",
    "        \"email\": email,\n",
    "        \"password\": password\n",
    "    })\n",
    "\n",
    "# Adding multiple users\n",
    "auth_function(\"Ahmed\", \"ahmed@gmail.com\", \"12345\") \n",
    "auth_function(\"Hassan\", \"hassan@gmail.com\", \"67890\")\n",
    "auth_function(\"Talha\", \"talha@gmail.com\", \"abcde\")\n",
    "\n",
    "def login_function(email=\"\", password=\"\"):\n",
    "    for user in userList:\n",
    "        if user[\"email\"] == email and user[\"password\"] == password:\n",
    "            return \"Login Successful\"\n",
    "    return \"Login Failed\"\n",
    "\n",
    "\n",
    "login_function(\"talha@gmail.com\", \"abcded\")"
   ]
  },
  {
   "cell_type": "code",
   "execution_count": 21,
   "id": "01f01434",
   "metadata": {},
   "outputs": [
    {
     "name": "stdout",
     "output_type": "stream",
     "text": [
      "name ==> Talha\n",
      "number ==> 3\n",
      "number ==> 2\n",
      "number ==> 3\n",
      "number ==> 59\n",
      "number ==> 5\n",
      "number ==> 6\n",
      "number ==> 10\n"
     ]
    }
   ],
   "source": [
    "def func(name, *nums):\n",
    "     print(\"name ==>\", name)\n",
    "     for number in nums:\n",
    "         print(\"number ==>\", number)\n",
    "\n",
    "name = \"Talha\"\n",
    "\n",
    "func(name, 3,2,3,59,5,6,10)"
   ]
  },
  {
   "cell_type": "code",
   "execution_count": 28,
   "id": "a7c1b7af",
   "metadata": {},
   "outputs": [
    {
     "name": "stdout",
     "output_type": "stream",
     "text": [
      "name ==> Talha\n",
      "number ==> 3\n",
      "number ==> 2\n",
      "number ==> 3\n",
      "number ==> 59\n",
      "number ==> 5\n",
      "number ==> 6\n",
      "number ==> 10\n"
     ]
    }
   ],
   "source": [
    "def func2(name, **nums):\n",
    "     print(\"name ==>\", name)\n",
    "     print(\"nums ==>\", nums)\n",
    "     for number in nums:\n",
    "         print(\"number ==>\", number)\n",
    "\n",
    "name = \"Talha\"\n",
    "\n",
    "func(name, 3,2,3,59,5,6,10)"
   ]
  },
  {
   "cell_type": "code",
   "execution_count": null,
   "id": "a9cf8225",
   "metadata": {},
   "outputs": [],
   "source": []
  },
  {
   "cell_type": "code",
   "execution_count": null,
   "id": "860674fd",
   "metadata": {},
   "outputs": [],
   "source": []
  }
 ],
 "metadata": {
  "kernelspec": {
   "display_name": "Python 3",
   "language": "python",
   "name": "python3"
  },
  "language_info": {
   "codemirror_mode": {
    "name": "ipython",
    "version": 3
   },
   "file_extension": ".py",
   "mimetype": "text/x-python",
   "name": "python",
   "nbconvert_exporter": "python",
   "pygments_lexer": "ipython3",
   "version": "3.13.5"
  }
 },
 "nbformat": 4,
 "nbformat_minor": 5
}
