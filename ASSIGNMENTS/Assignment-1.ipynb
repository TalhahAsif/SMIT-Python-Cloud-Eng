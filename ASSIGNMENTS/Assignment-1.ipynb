{
 "cells": [
  {
   "cell_type": "code",
   "execution_count": 3,
   "id": "cbe28b07",
   "metadata": {},
   "outputs": [
    {
     "name": "stdout",
     "output_type": "stream",
     "text": [
      "TalhaAsif Date of Birth: 04-02-1999\n"
     ]
    }
   ],
   "source": [
    "# Print Your Name with your Father name and Date of birth using suitable escape sequence charactor\n",
    "\n",
    "print(\"TalhaAsif Date of Birth: 04-02-1999\")"
   ]
  },
  {
   "cell_type": "code",
   "execution_count": null,
   "id": "72b43ad8",
   "metadata": {},
   "outputs": [
    {
     "name": "stdout",
     "output_type": "stream",
     "text": [
      "Talha Asif Date of Birth: 04-02-1999\n"
     ]
    }
   ],
   "source": [
    "# Write your small bio using variables and print it using print function\n",
    "\n",
    "bio = \"My name is Talha Asif. I love coding and exploring new technologies.\"\n",
    "\n",
    "print(bio)\n"
   ]
  },
  {
   "cell_type": "code",
   "execution_count": 1,
   "id": "673818b9",
   "metadata": {},
   "outputs": [
    {
     "name": "stdout",
     "output_type": "stream",
     "text": [
      "Percentage: 90.0\n"
     ]
    }
   ],
   "source": [
    "#     Completes the following steps of small task:\n",
    "# Mention Marks of English , Islamiat and Maths out of 100 in 3 different variables\n",
    "# Mention Variable of Total Marks and assign 300 to it\n",
    "# Calculate Percentage# Write a program in which use all the operators we can use in Python\n",
    "\n",
    "english = 85\n",
    "islamiat = 90\n",
    "maths = 95\n",
    "total_marks = 300 \n",
    "\n",
    "percentage = (english + islamiat + maths) / total_marks * 100\n",
    "print(\"Percentage:\", percentage)\n"
   ]
  },
  {
   "cell_type": "code",
   "execution_count": 6,
   "id": "1ccc8eae",
   "metadata": {},
   "outputs": [
    {
     "name": "stdout",
     "output_type": "stream",
     "text": [
      "Talha is eligible for bonus. and the ponus is 1000.0\n",
      "Hassan is eligible for bonus. and the ponus is 2700.0\n",
      "Ahmed is eligible for bonus. and the ponus is 5250.0\n"
     ]
    }
   ],
   "source": [
    "# A company decided to give bonus of 5% to employee if his/her year of service is more than 5 years. Ask user for their salary and year of service and print the net bonus amount.\n",
    "\n",
    "employees = [\n",
    "    {\n",
    "        \"name\": \"Talha\",\n",
    "        \"years_of_service\": 6,\n",
    "        \"salary\": 20000\n",
    "    },\n",
    "    {\n",
    "        \"name\": \"Hassan\",\n",
    "        \"years_of_service\": 6,\n",
    "        \"salary\": 54000\n",
    "    },\n",
    "    {\n",
    "        \"name\": \"Ahmed\",\n",
    "        \"years_of_service\": 6,\n",
    "        \"salary\": 105000\n",
    "    }\n",
    "]\n",
    "\n",
    "\n",
    "bonusPeriod = 5\n",
    "\n",
    "for employ in employees:\n",
    "    if(employ[\"years_of_service\"] >= bonusPeriod):\n",
    "        print(f\"{employ['name']} is eligible for bonus. and the ponus is {employ['salary'] * 0.05}\")\n"
   ]
  },
  {
   "cell_type": "code",
   "execution_count": 9,
   "id": "478084c8",
   "metadata": {},
   "outputs": [
    {
     "name": "stdout",
     "output_type": "stream",
     "text": [
      "Talha is eligible for voting\n",
      "Hassan is not eligible for voting\n",
      "Ahmed is not eligible for voting\n"
     ]
    }
   ],
   "source": [
    "# Write a program to check whether a person is eligible for voting or not. (accept age from user) if age is greater than 17 eligible otherwise not eligible\n",
    "people = [\n",
    "    {\n",
    "        \"name\": \"Talha\",\n",
    "        \"age\": 20\n",
    "    },\n",
    "    {\n",
    "        \"name\": \"Hassan\",\n",
    "        \"age\": 16\n",
    "    },\n",
    "    {\n",
    "        \"name\": \"Ahmed\",\n",
    "        \"age\": 17\n",
    "    }\n",
    "]\n",
    "\n",
    "votingAge = 17\n",
    "\n",
    "for person in people : \n",
    "    if(person[\"age\"] > votingAge):\n",
    "        print(f\"{person['name']} is eligible for voting\")\n",
    "    else:\n",
    "        print(f\"{person['name']} is not eligible for voting\")"
   ]
  },
  {
   "cell_type": "code",
   "execution_count": 14,
   "id": "98452a3d",
   "metadata": {},
   "outputs": [
    {
     "name": "stdout",
     "output_type": "stream",
     "text": [
      "3 is an odd number.\n"
     ]
    }
   ],
   "source": [
    "# Write a program to check whether a number entered by user is even or odd.\n",
    "\n",
    "number = int(input(\"Enter a number: \"))\n",
    "\n",
    "if number % 2 == 0:\n",
    "    print(f\"{number} is an even number.\")\n",
    "else: \n",
    "    print(f\"{number} is an odd number.\")"
   ]
  },
  {
   "cell_type": "code",
   "execution_count": 18,
   "id": "aa15a88a",
   "metadata": {},
   "outputs": [
    {
     "name": "stdout",
     "output_type": "stream",
     "text": [
      "4 is not divisible by 7.\n"
     ]
    }
   ],
   "source": [
    "# Write a program to check whether a number is divisible by 7 or not. Show Answer\n",
    "\n",
    "number = int(input(\"Enter a number: \"))\n",
    "\n",
    "if number % 7 == 0:\n",
    "    print(f\"{number} is divisible by 7.\")\n",
    "else :\n",
    "    print(f\"{number} is not divisible by 7.\")"
   ]
  },
  {
   "cell_type": "code",
   "execution_count": 20,
   "id": "1082930a",
   "metadata": {},
   "outputs": [
    {
     "name": "stdout",
     "output_type": "stream",
     "text": [
      "Bye\n"
     ]
    }
   ],
   "source": [
    "# Write a program to display \"Hello\" if a number entered by user is a multiple of five , otherwise print \"Bye\".\n",
    "\n",
    "number = int(input(\"Enter a number: \"))\n",
    "\n",
    "if number % 5 == 0:\n",
    "    print(\"Hello\")\n",
    "else :\n",
    "    print(\"Bye\")"
   ]
  },
  {
   "cell_type": "code",
   "execution_count": 23,
   "id": "c9b8565c",
   "metadata": {},
   "outputs": [
    {
     "name": "stdout",
     "output_type": "stream",
     "text": [
      "Last digit is: 9\n"
     ]
    }
   ],
   "source": [
    "# Write a program to display the last digit of a number.\n",
    "\n",
    "num = 109\n",
    "\n",
    "last_digit = str(num)[-1]\n",
    "print(\"Last digit is:\", last_digit)\n"
   ]
  },
  {
   "cell_type": "code",
   "execution_count": 3,
   "id": "cf04e827",
   "metadata": {},
   "outputs": [
    {
     "name": "stdout",
     "output_type": "stream",
     "text": [
      "It is a square\n"
     ]
    }
   ],
   "source": [
    "# Take values of length and breadth of a rectangle from user and print if it is square or rectangle.\n",
    "\n",
    "\n",
    "width = int(input(\"Enter width: \"))\n",
    "length = int(input(\"Enter length: \"))\n",
    "\n",
    "\n",
    "if width == length:\n",
    "    print(\"It is a square\")\n",
    "else:\n",
    "    print(\"It is rectangle\")"
   ]
  },
  {
   "cell_type": "code",
   "execution_count": 2,
   "id": "158e6cea",
   "metadata": {},
   "outputs": [
    {
     "name": "stdout",
     "output_type": "stream",
     "text": [
      "23 is greater than 22\n"
     ]
    }
   ],
   "source": [
    "# Take two int values from user and print greatest among them.\n",
    "\n",
    "number_1 = int(input(\"Enter first number: \"))\n",
    "number_2 = int(input(\"Enter second number: \"))\n",
    "\n",
    "if number_1 > number_2:\n",
    "    print(f\"{number_1} is greater than {number_2}\")\n",
    "else:\n",
    "    print(f\"{number_2} is greater than {number_1}\")"
   ]
  },
  {
   "cell_type": "code",
   "execution_count": 7,
   "id": "c3f53225",
   "metadata": {},
   "outputs": [
    {
     "name": "stdout",
     "output_type": "stream",
     "text": [
      "Total cost is: 100\n"
     ]
    }
   ],
   "source": [
    "unit = int(input(\"Enter number of units: \"))\n",
    "cost_per_unit = int(input(\"Enter cost per unit: \"))\n",
    "\n",
    "total_cost = unit * cost_per_unit\n",
    "\n",
    "discount_eligibllity = 1000\n",
    "\n",
    "if(total_cost >= discount_eligibllity):\n",
    "    discount = total_cost * 0.1\n",
    "    net_cost = total_cost - discount\n",
    "    print(f\"Total cost after discount is: {net_cost}\")\n",
    "else: \n",
    "    print(f\"Total cost is: {total_cost}\")"
   ]
  },
  {
   "cell_type": "markdown",
   "id": "242028b7",
   "metadata": {},
   "source": [
    "12) A school has following rules for grading system:\n",
    "\n",
    "a. Below 25 - F\n",
    "\n",
    "b. 25 to 45 - E\n",
    "\n",
    "c. 45 to 50 - D\n",
    "\n",
    "d. 50 to 60 - C\n",
    "\n",
    "e. 60 to 80 - B\n",
    "\n",
    "f. Above 80 - A\n",
    "\n",
    "Ask user to enter marks and print the corresponding grade."
   ]
  },
  {
   "cell_type": "code",
   "execution_count": 4,
   "id": "0cf258fc",
   "metadata": {},
   "outputs": [
    {
     "name": "stdout",
     "output_type": "stream",
     "text": [
      "{'grade': 'C', 'min_marks': 50, 'max_marks': 59.99} actual_grade\n"
     ]
    }
   ],
   "source": [
    "grade_scale = [\n",
    "    {\"grade\": \"A\", \"min_marks\": 80, \"max_marks\": 100},\n",
    "    {\"grade\": \"B\", \"min_marks\": 60, \"max_marks\": 79.99},\n",
    "    {\"grade\": \"C\", \"min_marks\": 50, \"max_marks\": 59.99},\n",
    "    {\"grade\": \"D\", \"min_marks\": 45, \"max_marks\": 49.99},\n",
    "    {\"grade\": \"E\", \"min_marks\": 25, \"max_marks\": 44.99},\n",
    "    {\"grade\": \"F\", \"min_marks\": 0,  \"max_marks\": 24.99}\n",
    "]\n",
    "\n",
    "percentage = int(input(\"Enter your percentage: \"))\n",
    "\n",
    "actual_grade = \"\"\n",
    "\n",
    "for grade in grade_scale:\n",
    "    if grade[\"min_marks\"] <= percentage <= grade[\"max_marks\"]:\n",
    "        actual_grade = grade\n",
    "        break\n",
    "        \n",
    "print(actual_grade, \"actual_grade\")               "
   ]
  },
  {
   "cell_type": "markdown",
   "id": "55d60253",
   "metadata": {},
   "source": [
    "14)A student will not be allowed to sit in exam if his/her attendence is less than 75%.\n",
    "\n",
    "Take following input from user\n",
    "\n",
    "- Number of classes held\n",
    "\n",
    "- Number of classes attended.\n",
    "\n",
    "And print\n",
    "\n",
    "- percentage of class attended\n",
    "\n",
    "- Is student is allowed to sit in exam or not.\n"
   ]
  },
  {
   "cell_type": "code",
   "execution_count": null,
   "id": "9e6a13a1",
   "metadata": {},
   "outputs": [
    {
     "name": "stdout",
     "output_type": "stream",
     "text": [
      "you are not allowed\n"
     ]
    }
   ],
   "source": [
    "total_classes = float(input(\"Total number of classes till now\"))\n",
    "classes_attended = float(input(\"How many classes you had attended\"))\n",
    "\n",
    "percentage = classes_attended / total_classes * 100\n",
    "\n",
    "allowedPercentage = 75\n",
    "\n",
    "if percentage > allowedPercentage:\n",
    "    print(\"you are allowed\")\n",
    "else: print(\"you are not allowed\")\n",
    "    "
   ]
  },
  {
   "cell_type": "markdown",
   "id": "033b8751",
   "metadata": {},
   "source": [
    "15) Modify the above question to allow student to sit if he/she has medical cause. Ask user if he/she has medical cause or not ( 'Y' or 'N' ) and print accordingly."
   ]
  },
  {
   "cell_type": "code",
   "execution_count": 11,
   "id": "7c84d75b",
   "metadata": {},
   "outputs": [
    {
     "name": "stdout",
     "output_type": "stream",
     "text": [
      "you are allowed\n"
     ]
    }
   ],
   "source": [
    "total_classes = float(input(\"Total number of classes till now\"))\n",
    "classes_attended = float(input(\"How many classes you had attended\"))\n",
    "medical_reason = input(\"Is there any medical reason? ('Y', 'N')\")\n",
    "\n",
    "percentage = classes_attended / total_classes * 100\n",
    "\n",
    "allowedPercentage = 75\n",
    "\n",
    "if percentage > allowedPercentage or medical_reason == \"Y\":\n",
    "    print(\"you are allowed\")\n",
    "else: print(\"you are not allowed\")"
   ]
  },
  {
   "cell_type": "markdown",
   "id": "97a5c377",
   "metadata": {},
   "source": [
    "16) Write a program to check if a year is leap year or not.\n",
    "\n",
    "If a year is divisible by 4 then it is leap year but if the year is century year like 2000, 1900, 2100 then it must be divisible by 400."
   ]
  },
  {
   "cell_type": "markdown",
   "id": "b9736af9",
   "metadata": {},
   "source": [
    "year = int(input(\"Enter year: \"))\n",
    "\n",
    "if year % 4 == 0 and (year % 100 != 0 or year % 400 == 0):\n",
    "    print(\"It is a leap year\")\n",
    "else:\n",
    "    print(\"It is not a leap year\")"
   ]
  }
 ],
 "metadata": {
  "kernelspec": {
   "display_name": "Python 3",
   "language": "python",
   "name": "python3"
  },
  "language_info": {
   "codemirror_mode": {
    "name": "ipython",
    "version": 3
   },
   "file_extension": ".py",
   "mimetype": "text/x-python",
   "name": "python",
   "nbconvert_exporter": "python",
   "pygments_lexer": "ipython3",
   "version": "3.13.5"
  }
 },
 "nbformat": 4,
 "nbformat_minor": 5
}
