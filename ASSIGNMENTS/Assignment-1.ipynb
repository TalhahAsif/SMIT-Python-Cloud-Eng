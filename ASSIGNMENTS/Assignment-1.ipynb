{
 "cells": [
  {
   "cell_type": "code",
   "execution_count": 3,
   "id": "cbe28b07",
   "metadata": {},
   "outputs": [
    {
     "name": "stdout",
     "output_type": "stream",
     "text": [
      "TalhaAsif Date of Birth: 04-02-1999\n"
     ]
    }
   ],
   "source": [
    "# Print Your Name with your Father name and Date of birth using suitable escape sequence charactor\n",
    "\n",
    "print(\"TalhaAsif Date of Birth: 04-02-1999\")"
   ]
  },
  {
   "cell_type": "code",
   "execution_count": null,
   "id": "72b43ad8",
   "metadata": {},
   "outputs": [
    {
     "name": "stdout",
     "output_type": "stream",
     "text": [
      "Talha Asif Date of Birth: 04-02-1999\n"
     ]
    }
   ],
   "source": [
    "# Write your small bio using variables and print it using print function\n",
    "\n",
    "bio = \"My name is Talha Asif. I love coding and exploring new technologies.\"\n",
    "\n",
    "print(bio)\n"
   ]
  },
  {
   "cell_type": "code",
   "execution_count": 1,
   "id": "673818b9",
   "metadata": {},
   "outputs": [
    {
     "name": "stdout",
     "output_type": "stream",
     "text": [
      "Percentage: 90.0\n"
     ]
    }
   ],
   "source": [
    "#     Completes the following steps of small task:\n",
    "# Mention Marks of English , Islamiat and Maths out of 100 in 3 different variables\n",
    "# Mention Variable of Total Marks and assign 300 to it\n",
    "# Calculate Percentage# Write a program in which use all the operators we can use in Python\n",
    "\n",
    "english = 85\n",
    "islamiat = 90\n",
    "maths = 95\n",
    "total_marks = 300 \n",
    "\n",
    "percentage = (english + islamiat + maths) / total_marks * 100\n",
    "print(\"Percentage:\", percentage)\n"
   ]
  },
  {
   "cell_type": "code",
   "execution_count": 6,
   "id": "1ccc8eae",
   "metadata": {},
   "outputs": [
    {
     "name": "stdout",
     "output_type": "stream",
     "text": [
      "Talha is eligible for bonus. and the ponus is 1000.0\n",
      "Hassan is eligible for bonus. and the ponus is 2700.0\n",
      "Ahmed is eligible for bonus. and the ponus is 5250.0\n"
     ]
    }
   ],
   "source": [
    "# A company decided to give bonus of 5% to employee if his/her year of service is more than 5 years. Ask user for their salary and year of service and print the net bonus amount.\n",
    "\n",
    "employees = [\n",
    "    {\n",
    "        \"name\": \"Talha\",\n",
    "        \"years_of_service\": 6,\n",
    "        \"salary\": 20000\n",
    "    },\n",
    "    {\n",
    "        \"name\": \"Hassan\",\n",
    "        \"years_of_service\": 6,\n",
    "        \"salary\": 54000\n",
    "    },\n",
    "    {\n",
    "        \"name\": \"Ahmed\",\n",
    "        \"years_of_service\": 6,\n",
    "        \"salary\": 105000\n",
    "    }\n",
    "]\n",
    "\n",
    "\n",
    "bonusPeriod = 5\n",
    "\n",
    "for employ in employees:\n",
    "    if(employ[\"years_of_service\"] >= bonusPeriod):\n",
    "        print(f\"{employ['name']} is eligible for bonus. and the ponus is {employ['salary'] * 0.05}\")\n"
   ]
  },
  {
   "cell_type": "code",
   "execution_count": 9,
   "id": "478084c8",
   "metadata": {},
   "outputs": [
    {
     "name": "stdout",
     "output_type": "stream",
     "text": [
      "Talha is eligible for voting\n",
      "Hassan is not eligible for voting\n",
      "Ahmed is not eligible for voting\n"
     ]
    }
   ],
   "source": [
    "# Write a program to check whether a person is eligible for voting or not. (accept age from user) if age is greater than 17 eligible otherwise not eligible\n",
    "people = [\n",
    "    {\n",
    "        \"name\": \"Talha\",\n",
    "        \"age\": 20\n",
    "    },\n",
    "    {\n",
    "        \"name\": \"Hassan\",\n",
    "        \"age\": 16\n",
    "    },\n",
    "    {\n",
    "        \"name\": \"Ahmed\",\n",
    "        \"age\": 17\n",
    "    }\n",
    "]\n",
    "\n",
    "votingAge = 17\n",
    "\n",
    "for person in people : \n",
    "    if(person[\"age\"] > votingAge):\n",
    "        print(f\"{person['name']} is eligible for voting\")\n",
    "    else:\n",
    "        print(f\"{person['name']} is not eligible for voting\")"
   ]
  },
  {
   "cell_type": "code",
   "execution_count": 14,
   "id": "98452a3d",
   "metadata": {},
   "outputs": [
    {
     "name": "stdout",
     "output_type": "stream",
     "text": [
      "3 is an odd number.\n"
     ]
    }
   ],
   "source": [
    "# Write a program to check whether a number entered by user is even or odd.\n",
    "\n",
    "number = int(input(\"Enter a number: \"))\n",
    "\n",
    "if number % 2 == 0:\n",
    "    print(f\"{number} is an even number.\")\n",
    "else: \n",
    "    print(f\"{number} is an odd number.\")"
   ]
  },
  {
   "cell_type": "code",
   "execution_count": 18,
   "id": "aa15a88a",
   "metadata": {},
   "outputs": [
    {
     "name": "stdout",
     "output_type": "stream",
     "text": [
      "4 is not divisible by 7.\n"
     ]
    }
   ],
   "source": [
    "# Write a program to check whether a number is divisible by 7 or not. Show Answer\n",
    "\n",
    "number = int(input(\"Enter a number: \"))\n",
    "\n",
    "if number % 7 == 0:\n",
    "    print(f\"{number} is divisible by 7.\")\n",
    "else :\n",
    "    print(f\"{number} is not divisible by 7.\")"
   ]
  },
  {
   "cell_type": "code",
   "execution_count": 20,
   "id": "1082930a",
   "metadata": {},
   "outputs": [
    {
     "name": "stdout",
     "output_type": "stream",
     "text": [
      "Bye\n"
     ]
    }
   ],
   "source": [
    "# Write a program to display \"Hello\" if a number entered by user is a multiple of five , otherwise print \"Bye\".\n",
    "\n",
    "number = int(input(\"Enter a number: \"))\n",
    "\n",
    "if number % 5 == 0:\n",
    "    print(\"Hello\")\n",
    "else :\n",
    "    print(\"Bye\")"
   ]
  },
  {
   "cell_type": "code",
   "execution_count": 23,
   "id": "c9b8565c",
   "metadata": {},
   "outputs": [
    {
     "name": "stdout",
     "output_type": "stream",
     "text": [
      "Last digit is: 9\n"
     ]
    }
   ],
   "source": [
    "# Write a program to display the last digit of a number.\n",
    "\n",
    "num = 109\n",
    "\n",
    "last_digit = str(num)[-1]\n",
    "print(\"Last digit is:\", last_digit)\n"
   ]
  },
  {
   "cell_type": "code",
   "execution_count": 3,
   "id": "cf04e827",
   "metadata": {},
   "outputs": [
    {
     "name": "stdout",
     "output_type": "stream",
     "text": [
      "It is a square\n"
     ]
    }
   ],
   "source": [
    "# Take values of length and breadth of a rectangle from user and print if it is square or rectangle.\n",
    "\n",
    "\n",
    "width = int(input(\"Enter width: \"))\n",
    "length = int(input(\"Enter length: \"))\n",
    "\n",
    "\n",
    "if width == length:\n",
    "    print(\"It is a square\")\n",
    "else:\n",
    "    print(\"It is rectangle\")"
   ]
  },
  {
   "cell_type": "code",
   "execution_count": 4,
   "id": "158e6cea",
   "metadata": {},
   "outputs": [
    {
     "name": "stdout",
     "output_type": "stream",
     "text": [
      "45 is greater than 3\n"
     ]
    }
   ],
   "source": [
    "number_1 = int(input(\"Enter first number: \"))\n",
    "number_2 = int(input(\"Enter second number: \"))\n",
    "\n",
    "if number_1 > number_2:\n",
    "    print(f\"{number_1} is greater than {number_2}\")\n",
    "else:\n",
    "    print(f\"{number_2} is greater than {number_1}\")"
   ]
  },
  {
   "cell_type": "code",
   "execution_count": 7,
   "id": "c3f53225",
   "metadata": {},
   "outputs": [
    {
     "name": "stdout",
     "output_type": "stream",
     "text": [
      "Total cost is: 100\n"
     ]
    }
   ],
   "source": [
    "unit = int(input(\"Enter number of units: \"))\n",
    "cost_per_unit = int(input(\"Enter cost per unit: \"))\n",
    "\n",
    "total_cost = unit * cost_per_unit\n",
    "\n",
    "discount_eligibllity = 1000\n",
    "\n",
    "if(total_cost >= discount_eligibllity):\n",
    "    discount = total_cost * 0.1\n",
    "    net_cost = total_cost - discount\n",
    "    print(f\"Total cost after discount is: {net_cost}\")\n",
    "else: \n",
    "    print(f\"Total cost is: {total_cost}\")"
   ]
  },
  {
   "cell_type": "code",
   "execution_count": null,
   "id": "0cf258fc",
   "metadata": {},
   "outputs": [],
   "source": [
    "grade_scale = [\n",
    "    {\"grade\": \"A\", \"min_marks\": 80, \"max_marks\": 100},\n",
    "    {\"grade\": \"B\", \"min_marks\": 60, \"max_marks\": 79.99},\n",
    "    {\"grade\": \"C\", \"min_marks\": 50, \"max_marks\": 59.99},\n",
    "    {\"grade\": \"D\", \"min_marks\": 45, \"max_marks\": 49.99},\n",
    "    {\"grade\": \"E\", \"min_marks\": 25, \"max_marks\": 44.99},\n",
    "    {\"grade\": \"F\", \"min_marks\": 0,  \"max_marks\": 24.99}\n",
    "]\n",
    "\n",
    "percentage = int(input(\"Enter your percentage: \"))  "
   ]
  }
 ],
 "metadata": {
  "kernelspec": {
   "display_name": "Python 3",
   "language": "python",
   "name": "python3"
  },
  "language_info": {
   "codemirror_mode": {
    "name": "ipython",
    "version": 3
   },
   "file_extension": ".py",
   "mimetype": "text/x-python",
   "name": "python",
   "nbconvert_exporter": "python",
   "pygments_lexer": "ipython3",
   "version": "3.13.5"
  }
 },
 "nbformat": 4,
 "nbformat_minor": 5
}
