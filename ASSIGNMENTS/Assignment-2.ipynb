{
 "cells": [
  {
   "cell_type": "markdown",
   "id": "f86f0243",
   "metadata": {},
   "source": [
    "1) A company decided to give bonus of 5% to employee if his/her year of service is more than 5 years.\n",
    "Ask user for their salary and year of service and print the net bonus amount."
   ]
  },
  {
   "cell_type": "code",
   "execution_count": null,
   "id": "c5ce5391",
   "metadata": {},
   "outputs": [
    {
     "name": "stdout",
     "output_type": "stream",
     "text": [
      "you are not eligible for bonus\n"
     ]
    }
   ],
   "source": [
    "no_of_years = int(input(\"how many year you have spend in this company\"))\n",
    "bonus = 5\n",
    "\n",
    "if no_of_years > 5:\n",
    "    salary = int(input(\"enter your salary\"))\n",
    "    print(\"you are eligible for bonus\")\n",
    "    print(\"your bonus is\", (salary * bonus) / 100)\n",
    "else:\n",
    "    print(\"you are not eligible for bonus\")"
   ]
  },
  {
   "cell_type": "markdown",
   "id": "3a8dfeb2",
   "metadata": {},
   "source": [
    "\n",
    "2) Write a program to check whether a person is eligible for voting or not. (accept age from user) if age is greater than 17 eligible otherwise not eligible"
   ]
  },
  {
   "cell_type": "code",
   "execution_count": 5,
   "id": "9fb1d2fa",
   "metadata": {},
   "outputs": [
    {
     "name": "stdout",
     "output_type": "stream",
     "text": [
      "You are not eligible to vote.\n"
     ]
    }
   ],
   "source": [
    "Person_age = int(input(\"Enter your age: \"))\n",
    "\n",
    "if Person_age >= 18: \n",
    "    print(\"You are eligible to vote.\")\n",
    "else:\n",
    "    print(\"You are not eligible to vote.\")"
   ]
  },
  {
   "cell_type": "markdown",
   "id": "5f38a885",
   "metadata": {},
   "source": [
    "\n",
    "3) Write a program to check whether a number entered by user is even or odd."
   ]
  },
  {
   "cell_type": "code",
   "execution_count": null,
   "id": "6af58ca0",
   "metadata": {},
   "outputs": [],
   "source": [
    "number = int(input(\"Enter a number: \"))\n",
    "\n",
    "if number % 2 == 0:\n",
    "    print(f\"{number} is an even number.\")\n",
    "else:\n",
    "    print(f\"{number} is an odd number.\")"
   ]
  },
  {
   "cell_type": "markdown",
   "id": "68c58563",
   "metadata": {},
   "source": []
  },
  {
   "cell_type": "markdown",
   "id": "9f2cf01b",
   "metadata": {},
   "source": [
    "4) Write a program to check whether a number is divisible by 7 or not.\n",
    "Show Answer"
   ]
  },
  {
   "cell_type": "code",
   "execution_count": 9,
   "id": "cfbb44ec",
   "metadata": {},
   "outputs": [
    {
     "name": "stdout",
     "output_type": "stream",
     "text": [
      "21 is divisible by 7\n"
     ]
    }
   ],
   "source": [
    "is_Divisible = int(input(\"Check whether a number is divisible by 7 and 5 or not: \"))\n",
    "\n",
    "if is_Divisible % 7 == 0:\n",
    "    print(f\"{is_Divisible} is divisible by 7\")\n",
    "else:\n",
    "    print(f\"{is_Divisible} is not divisible by 7\")"
   ]
  },
  {
   "cell_type": "markdown",
   "id": "00990661",
   "metadata": {},
   "source": [
    "5) Write a program to display \n",
    "\"Hello\" if a number entered by user is a multiple of five , otherwise print \"Bye\"."
   ]
  },
  {
   "cell_type": "code",
   "execution_count": null,
   "id": "916ff1ab",
   "metadata": {},
   "outputs": [],
   "source": [
    "user_number = int(input(\"Enter a number..\"))\n",
    "\n",
    "if user_number % 5 == 0:\n",
    "    print(\"Hello\")\n",
    "else:\n",
    "    print(\"Bye\")"
   ]
  },
  {
   "cell_type": "markdown",
   "id": "fc3e9de6",
   "metadata": {},
   "source": [
    "7) Write a program to display the last digit of a number.\n"
   ]
  },
  {
   "cell_type": "code",
   "execution_count": 12,
   "id": "f39c1eae",
   "metadata": {},
   "outputs": [
    {
     "name": "stdout",
     "output_type": "stream",
     "text": [
      "Last digit: 9\n"
     ]
    }
   ],
   "source": [
    "num = int(input(\"Enter a number: \"))\n",
    "last_digit = num % 10\n",
    "print(\"Last digit:\", last_digit)\n"
   ]
  },
  {
   "cell_type": "markdown",
   "id": "2b73024d",
   "metadata": {},
   "source": []
  }
 ],
 "metadata": {
  "kernelspec": {
   "display_name": "Python 3",
   "language": "python",
   "name": "python3"
  },
  "language_info": {
   "codemirror_mode": {
    "name": "ipython",
    "version": 3
   },
   "file_extension": ".py",
   "mimetype": "text/x-python",
   "name": "python",
   "nbconvert_exporter": "python",
   "pygments_lexer": "ipython3",
   "version": "3.13.5"
  }
 },
 "nbformat": 4,
 "nbformat_minor": 5
}
